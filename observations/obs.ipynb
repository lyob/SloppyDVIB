{
 "cells": [
  {
   "cell_type": "code",
   "execution_count": 5,
   "metadata": {},
   "outputs": [],
   "source": [
    "import numpy as np\n",
    "import matplotlib.pyplot as plt"
   ]
  },
  {
   "cell_type": "code",
   "execution_count": 6,
   "metadata": {},
   "outputs": [],
   "source": [
    "vals = np.load('b4-evalues.npy')\n",
    "vecs = np.load('b4-vectors.npy')\n",
    "index = np.load('sindex-b4.npy')"
   ]
  },
  {
   "cell_type": "markdown",
   "metadata": {},
   "source": [
    "label = 7, beta = 1e-4"
   ]
  },
  {
   "cell_type": "code",
   "execution_count": 7,
   "metadata": {},
   "outputs": [
    {
     "name": "stdout",
     "output_type": "stream",
     "text": [
      "63661335122.85017\n",
      "-8.886813492381315e-05\n",
      "[6.33351942e-05 7.91669952e-05 2.67645593e+05 2.61718046e+07\n",
      " 3.62311553e+07 8.59621725e+07 1.39310506e+08 2.09532706e+08\n",
      " 4.55860436e+08 8.94366028e+08 1.02078876e+09]\n"
     ]
    }
   ],
   "source": [
    "print(np.max(vals))\n",
    "print(np.min(vals))\n",
    "print(vals[-12:-1])\n",
    "vals2 = vals - np.min(vals)"
   ]
  },
  {
   "cell_type": "code",
   "execution_count": 8,
   "metadata": {},
   "outputs": [
    {
     "data": {
      "image/png": "[encoded data removed]",
      "text/plain": [
       "<Figure size 432x288 with 1 Axes>"
      ]
     },
     "metadata": {
      "needs_background": "light"
     },
     "output_type": "display_data"
    }
   ],
   "source": [
    "fig, ax = plt.subplots()\n",
    "# ax.scatter(np.linspace(0, len(vals2), len(vals2)), vals2)\n",
    "ax.plot(vals2)\n",
    "ax.set_yscale('log')\n"
   ]
  },
  {
   "cell_type": "code",
   "execution_count": 9,
   "metadata": {},
   "outputs": [],
   "source": [
    "top_vals = vals[-10:-1]\n",
    "top_vecs = vecs[-10:-1]"
   ]
  },
  {
   "cell_type": "code",
   "execution_count": 10,
   "metadata": {},
   "outputs": [
    {
     "name": "stdout",
     "output_type": "stream",
     "text": [
      "267645.5929099278\n",
      "1020788759.0539377\n"
     ]
    }
   ],
   "source": [
    "print(top_vals[0])\n",
    "print(top_vals[-1])"
   ]
  },
  {
   "cell_type": "code",
   "execution_count": 11,
   "metadata": {},
   "outputs": [
    {
     "name": "stdout",
     "output_type": "stream",
     "text": [
      "[0.04768769 0.04778799 0.04793255 0.04818761 0.05040044 0.0505169\n",
      " 0.05192388 0.05279257 0.0551574  0.05527389 0.05546007 0.05589139\n",
      " 0.05767162 0.05944901]\n"
     ]
    }
   ],
   "source": [
    "# print(top_vecs[0])\n",
    "sorted_vecs = np.sort(top_vecs[-1])\n",
    "# for i, element in enumerate(top_vecs[0]):\n",
    "#     print(element)\n",
    "print(sorted_vecs[-15:-1])"
   ]
  },
  {
   "cell_type": "code",
   "execution_count": 16,
   "metadata": {},
   "outputs": [
    {
     "data": {
      "text/plain": [
       "array([0.00491323, 0.00283633, 0.00297338, ..., 0.00154833, 0.00256298,\n",
       "       0.00275694])"
      ]
     },
     "execution_count": 16,
     "metadata": {},
     "output_type": "execute_result"
    }
   ],
   "source": [
    "top_vecs[0]"
   ]
  },
  {
   "cell_type": "code",
   "execution_count": 108,
   "metadata": {},
   "outputs": [
    {
     "data": {
      "text/plain": [
       "Text(0.5, 1.0, 'eigenvector corresponding to eigenvalue number -11')"
      ]
     },
     "execution_count": 108,
     "metadata": {},
     "output_type": "execute_result"
    },
    {
     "data": {
      "image/png": "[encoded data removed]",
      "text/plain": [
       "<Figure size 720x432 with 1 Axes>"
      ]
     },
     "metadata": {
      "needs_background": "light"
     },
     "output_type": "display_data"
    }
   ],
   "source": [
    "ind = 11\n",
    "fig, ax = plt.subplots(figsize=(10, 6))\n",
    "ax.plot(np.abs(vecs[:,-ind]))\n",
    "# ax.set_yscale('log')\n",
    "plt.axvline(0, 0, 1, label='64x100', color='pink')\n",
    "plt.axvline(6500, 0, 1, label='100x100', color = 'orange')\n",
    "plt.axvline(16600, 0, 1, label='100x32', color = 'r')\n",
    "plt.axvline(19832, 0, 1, label='16x10', color = 'green')\n",
    "np.sum(vecs[:,-11]**2)\n",
    "ax.set_ylabel('value')\n",
    "ax.set_xlabel('weight number')\n",
    "ax.legend()\n",
    "ax.set_title('eigenvector corresponding to eigenvalue number -{}'.format(ind))"
   ]
  },
  {
   "cell_type": "code",
   "execution_count": 42,
   "metadata": {},
   "outputs": [],
   "source": [
    "mat = np.array((4,4))"
   ]
  },
  {
   "cell_type": "code",
   "execution_count": 43,
   "metadata": {},
   "outputs": [
    {
     "name": "stdout",
     "output_type": "stream",
     "text": [
      "[[0.85488759 0.31399718 0.10962174 0.09987171]\n",
      " [0.12868139 0.23227553 0.1969572  0.74323163]\n",
      " [0.45159846 0.01214184 0.54713377 0.01120815]\n",
      " [0.72718842 0.43729453 0.22794668 0.1449137 ]]\n"
     ]
    }
   ],
   "source": [
    "print(mat)"
   ]
  },
  {
   "cell_type": "code",
   "execution_count": 44,
   "metadata": {},
   "outputs": [
    {
     "data": {
      "text/plain": [
       "array([0.10962174, 0.1969572 , 0.54713377, 0.22794668])"
      ]
     },
     "execution_count": 44,
     "metadata": {},
     "output_type": "execute_result"
    }
   ],
   "source": [
    "mat[:,2]"
   ]
  },
  {
   "cell_type": "code",
   "execution_count": 45,
   "metadata": {},
   "outputs": [
    {
     "data": {
      "text/plain": [
       "array([0.45159846, 0.01214184, 0.54713377, 0.01120815])"
      ]
     },
     "execution_count": 45,
     "metadata": {},
     "output_type": "execute_result"
    }
   ],
   "source": [
    "mat[:][2]"
   ]
  },
  {
   "cell_type": "code",
   "execution_count": 1,
   "metadata": {},
   "outputs": [],
   "source": [
    "import pandas as pd\n",
    "import numpy as np"
   ]
  },
  {
   "cell_type": "code",
   "execution_count": 14,
   "metadata": {},
   "outputs": [],
   "source": [
    "testarray = np.array([[0,1,2],[3,4,5],[6,7,8]])\n",
    "testarray = testarray.transpose()"
   ]
  },
  {
   "cell_type": "code",
   "execution_count": 15,
   "metadata": {},
   "outputs": [],
   "source": [
    "dim_cols = ['dimension'+str(i) for i in range(testarray.shape[1])]\n",
    "df = pd.DataFrame(testarray, columns=dim_cols)"
   ]
  },
  {
   "cell_type": "code",
   "execution_count": 16,
   "metadata": {},
   "outputs": [],
   "source": [
    "data = df[dim_cols].values"
   ]
  },
  {
   "cell_type": "code",
   "execution_count": 17,
   "metadata": {},
   "outputs": [
    {
     "name": "stdout",
     "output_type": "stream",
     "text": [
      "[[0 3 6]\n",
      " [1 4 7]\n",
      " [2 5 8]]\n"
     ]
    }
   ],
   "source": [
    "print(data)"
   ]
  },
  {
   "cell_type": "code",
   "execution_count": 13,
   "metadata": {},
   "outputs": [
    {
     "data": {
      "text/plain": [
       "array([[0, 3, 6],\n",
       "       [1, 4, 7],\n",
       "       [2, 5, 8]])"
      ]
     },
     "execution_count": 13,
     "metadata": {},
     "output_type": "execute_result"
    }
   ],
   "source": []
  },
  {
   "cell_type": "code",
   "execution_count": null,
   "metadata": {},
   "outputs": [],
   "source": []
  }
 ],
 "metadata": {
  "kernelspec": {
   "display_name": "Python 3",
   "language": "python",
   "name": "python3"
  },
  "language_info": {
   "codemirror_mode": {
    "name": "ipython",
    "version": 3
   },
   "file_extension": ".py",
   "mimetype": "text/x-python",
   "name": "python",
   "nbconvert_exporter": "python",
   "pygments_lexer": "ipython3",
   "version": "3.7.7"
  }
 },
 "nbformat": 4,
 "nbformat_minor": 4
}
