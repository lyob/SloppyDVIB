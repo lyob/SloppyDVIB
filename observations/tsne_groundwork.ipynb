{
 "cells": [
  {
   "cell_type": "code",
   "execution_count": 17,
   "metadata": {},
   "outputs": [],
   "source": [
    "import numpy as np\n",
    "import pandas as pd\n",
    "import sklearn\n",
    "from sklearn.manifold import TSNE\n",
    "import matplotlib\n",
    "matplotlib.use('Agg')\n",
    "import matplotlib.pyplot as plt\n",
    "import seaborn as sns"
   ]
  },
  {
   "cell_type": "code",
   "execution_count": 2,
   "metadata": {},
   "outputs": [],
   "source": [
    "# these are the values from h101\n",
    "vals = np.load('b4-evalues.npy')\n",
    "vecs = np.load('b4-vectors.npy')\n",
    "index = np.load('sindex-b4.npy')"
   ]
  },
  {
   "cell_type": "code",
   "execution_count": 18,
   "metadata": {},
   "outputs": [],
   "source": [
    "beta = 2\n",
    "maxbeta = 12\n",
    "num_images = 15"
   ]
  },
  {
   "cell_type": "code",
   "execution_count": 19,
   "metadata": {},
   "outputs": [],
   "source": [
    "def load_eigenvectors(b):\n",
    "    return np.load(inpath + 'b{}-vectors.npy'.format(b))"
   ]
  },
  {
   "cell_type": "code",
   "execution_count": null,
   "metadata": {},
   "outputs": [],
   "source": [
    "def build_dataset_one_beta():\n",
    "    print('building dataset...')\n",
    "    # first order is by image (15) * label (10). each image has 20002 dims\n",
    "    all_vectors = np.ndarray(shape=(150, 20002))\n",
    "    all_labels = np.ndarray(shape=(150))\n",
    "\n",
    "    for i in range(num_images):\n",
    "        i += 1\n",
    "        print('building for image number ' + str(i))\n",
    "        if int(i) < 10:\n",
    "            i = '0{}'.format(i)\n",
    "        model = 'h7{}'.format(i)\n",
    "        global inpath\n",
    "        inpath = '/dali/sepalmer/blyo/centralised/{}/data-eigs/'.format(model)\n",
    "\n",
    "        # import sorted index\n",
    "        sindex = load_sorted_eigval_index(beta)\n",
    "        sindex = sindex[-10:] # 10 largest eigenvalues\n",
    "        sindex = [*range(20002-10, 20002)]\n",
    "\n",
    "        # import eigenvectors\n",
    "        vector = load_eigenvectors(beta)\n",
    "\n",
    "        # extract the vectors corresponding to the 10 largest eigvalues ()\n",
    "        for r in range(10):\n",
    "            val = (int(i)-1)*10 + r\n",
    "            all_vectors[val] = vector[sindex[r]]\n",
    "            all_labels[val] = str(r)\n",
    "\n",
    "    return all_vectors, all_labels"
   ]
  },
  {
   "cell_type": "code",
   "execution_count": 8,
   "metadata": {},
   "outputs": [
    {
     "name": "stdout",
     "output_type": "stream",
     "text": [
      "[ 0  1  2  3  4  5  6  7  8  9 10 11 12 13 14 15 16 17 18 19 20 21 22 23\n",
      " 24 25 26 27 28 29]\n",
      "[19972 19973 19974 19975 19976 19977 19978 19979 19980 19981 19982 19983\n",
      " 19984 19985 19986 19987 19988 19989 19990 19991 19992 19993 19994 19995\n",
      " 19996 19997 19998 19999 20000 20001]\n"
     ]
    }
   ],
   "source": [
    "print(index[0:30])\n",
    "print(index[-30:])"
   ]
  },
  {
   "cell_type": "markdown",
   "metadata": {},
   "source": [
    "Clearly, the eigenvalues are already sorted from smallest to largest. "
   ]
  },
  {
   "cell_type": "code",
   "execution_count": 14,
   "metadata": {},
   "outputs": [],
   "source": [
    "x = [*range(20002-10, 20002)]"
   ]
  },
  {
   "cell_type": "code",
   "execution_count": 15,
   "metadata": {},
   "outputs": [
    {
     "name": "stdout",
     "output_type": "stream",
     "text": [
      "[19992, 19993, 19994, 19995, 19996, 19997, 19998, 19999, 20000, 20001]\n"
     ]
    }
   ],
   "source": [
    "print(x)"
   ]
  },
  {
   "cell_type": "code",
   "execution_count": null,
   "metadata": {},
   "outputs": [],
   "source": []
  }
 ],
 "metadata": {
  "kernelspec": {
   "display_name": "Python 3",
   "language": "python",
   "name": "python3"
  },
  "language_info": {
   "codemirror_mode": {
    "name": "ipython",
    "version": 3
   },
   "file_extension": ".py",
   "mimetype": "text/x-python",
   "name": "python",
   "nbconvert_exporter": "python",
   "pygments_lexer": "ipython3",
   "version": "3.7.7"
  }
 },
 "nbformat": 4,
 "nbformat_minor": 4
}
